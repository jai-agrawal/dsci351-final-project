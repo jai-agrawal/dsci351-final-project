{
 "cells": [
  {
   "cell_type": "markdown",
   "source": [
    "# DSCI-351 Final Project: MongoDB Emulation\n",
    "Student: Jai Agrawal\n",
    "Student ID: 1061531919\n",
    "\n",
    "In this Jupyter notebook, I will demo the app I made which emulates a MongoDB server using a MySQL backend."
   ],
   "metadata": {
    "collapsed": false
   }
  },
  {
   "cell_type": "code",
   "execution_count": 7,
   "metadata": {
    "collapsed": true
   },
   "outputs": [],
   "source": [
    "# imports\n",
    "from emulated_mongodb import *"
   ]
  },
  {
   "cell_type": "markdown",
   "source": [
    "# Demo of App\n",
    "The first step in my app is to connect to the emulated server, using the MySQL credentials I possess."
   ],
   "metadata": {
    "collapsed": false
   }
  },
  {
   "cell_type": "code",
   "execution_count": 8,
   "outputs": [],
   "source": [
    "# Connect to the emulated MongoDB server\n",
    "client = EmulatedMongoClient(host=\"localhost\", user=\"jai\", password=\"dsci351\", database=\"f1\")"
   ],
   "metadata": {
    "collapsed": false
   }
  },
  {
   "cell_type": "markdown",
   "source": [
    "The next step, having connected to the server, is to connect to the \"f1\" database."
   ],
   "metadata": {
    "collapsed": false
   }
  },
  {
   "cell_type": "code",
   "execution_count": 9,
   "outputs": [],
   "source": [
    "# Access the database\n",
    "db = client[\"f1\"]"
   ],
   "metadata": {
    "collapsed": false
   }
  },
  {
   "cell_type": "markdown",
   "source": [
    "We then have to define a schema for the inputs we're going to be feeding into \"f1\" database."
   ],
   "metadata": {
    "collapsed": false
   }
  },
  {
   "cell_type": "code",
   "execution_count": 10,
   "outputs": [],
   "source": [
    "# Define the schema for the collection\n",
    "schema = {\n",
    "    'driver_id': 'INT PRIMARY KEY',\n",
    "    'first_name': 'VARCHAR(50)',\n",
    "    'last_name': 'VARCHAR(50)',\n",
    "    'team': 'VARCHAR(50)',\n",
    "    'country': 'VARCHAR(50)',\n",
    "    'points': 'INT',\n",
    "    'podiums': 'INT'\n",
    "}"
   ],
   "metadata": {
    "collapsed": false
   }
  },
  {
   "cell_type": "markdown",
   "source": [
    "# CREATING A COLLECTION\n",
    "Next, we have to create and access the collection - using our defined schema."
   ],
   "metadata": {
    "collapsed": false
   }
  },
  {
   "cell_type": "code",
   "execution_count": 11,
   "outputs": [],
   "source": [
    "# # Create a new collection\n",
    "# db.create_collection(\"f1_drivers_table\", schema=schema)\n",
    "\n",
    "# Access the collection\n",
    "collection = db[\"f1_drivers_table\"]"
   ],
   "metadata": {
    "collapsed": false
   }
  },
  {
   "cell_type": "markdown",
   "source": [
    "Now that we've accessed the collection, we next insert values into the collection (in MongoDB format)"
   ],
   "metadata": {
    "collapsed": false
   }
  },
  {
   "cell_type": "code",
   "execution_count": 12,
   "outputs": [],
   "source": [
    "# Insert sample driver data\n",
    "sample_drivers = [\n",
    "    {'driver_id': 1, 'first_name': 'Lewis', 'last_name': 'Hamilton', 'team': 'Mercedes', 'country': 'UK', 'points': 400, 'podiums': 192},\n",
    "    {'driver_id': 2, 'first_name': 'Max', 'last_name': 'Verstappen', 'team': 'Red Bull Racing', 'country': 'Netherlands', 'points': 350, 'podiums': 80},\n",
    "    {'driver_id': 3, 'first_name': 'Charles', 'last_name': 'Leclerc', 'team': 'Ferrari', 'country': 'Monaco', 'points': 200, 'podiums': 24},\n",
    "    {'driver_id': 4, 'first_name': 'Lando', 'last_name': 'Norris', 'team': 'McLaren', 'country': 'UK', 'points': 150, 'podiums': 6},\n",
    "]\n",
    "\n",
    "# Populate table\n",
    "for driver in sample_drivers:\n",
    "    collection.insert_one(driver)"
   ],
   "metadata": {
    "collapsed": false
   }
  },
  {
   "cell_type": "markdown",
   "source": [
    "I wrote a small function using mysql.connecter to print out the MySQL Table that exists at the backend, so we now check using it:"
   ],
   "metadata": {
    "collapsed": false
   }
  },
  {
   "cell_type": "code",
   "execution_count": 13,
   "outputs": [
    {
     "name": "stdout",
     "output_type": "stream",
     "text": [
      "|   driver_id | first_name   | last_name   | team            | country     |   points |   podiums |\n",
      "|------------:|:-------------|:------------|:----------------|:------------|---------:|----------:|\n",
      "|           1 | Lewis        | Hamilton    | Mercedes        | UK          |      400 |       192 |\n",
      "|           2 | Max          | Verstappen  | Red Bull Racing | Netherlands |      350 |        80 |\n",
      "|           3 | Charles      | Leclerc     | Ferrari         | Monaco      |      200 |        24 |\n",
      "|           4 | Lando        | Norris      | McLaren         | UK          |      150 |         6 |\n"
     ]
    }
   ],
   "source": [
    "print_mysql_table(client.connection, \"f1_drivers_table\")"
   ],
   "metadata": {
    "collapsed": false
   }
  },
  {
   "cell_type": "markdown",
   "source": [
    "# INSERTING DOCUMENTS INTO THE COLLECTION\n",
    "Next, we insert an entry."
   ],
   "metadata": {
    "collapsed": false
   }
  },
  {
   "cell_type": "code",
   "execution_count": 14,
   "outputs": [],
   "source": [
    "# Insert a document\n",
    "collection.insert_one({'driver_id': 5, 'first_name': 'Daniel', 'last_name': 'Ricciardo', 'team': 'McLaren', 'country': 'Australia', 'points': 120, 'podiums': 32})\n",
    "collection.insert_one({'driver_id': 6, 'first_name': 'George', 'last_name': 'Russell', 'team': 'Mercedes', 'country': 'UK', 'points': 250, 'podiums': 9})\n",
    "collection.insert_one({'driver_id': 7, 'first_name': 'Sergio', 'last_name': 'Perez', 'team': 'Red Bull Racing', 'country': 'Mexico', 'points': 280, 'podiums': 28})\n",
    "collection.insert_one({'driver_id': 8, 'first_name': 'Fernando', 'last_name': 'Alonso', 'team': 'Renault', 'country': 'Spain', 'points': 80, 'podiums': 99})"
   ],
   "metadata": {
    "collapsed": false
   }
  },
  {
   "cell_type": "markdown",
   "source": [
    "We now check this using our table method."
   ],
   "metadata": {
    "collapsed": false
   }
  },
  {
   "cell_type": "code",
   "execution_count": 15,
   "outputs": [
    {
     "name": "stdout",
     "output_type": "stream",
     "text": [
      "|   driver_id | first_name   | last_name   | team            | country     |   points |   podiums |\n",
      "|------------:|:-------------|:------------|:----------------|:------------|---------:|----------:|\n",
      "|           1 | Lewis        | Hamilton    | Mercedes        | UK          |      400 |       192 |\n",
      "|           2 | Max          | Verstappen  | Red Bull Racing | Netherlands |      350 |        80 |\n",
      "|           3 | Charles      | Leclerc     | Ferrari         | Monaco      |      200 |        24 |\n",
      "|           4 | Lando        | Norris      | McLaren         | UK          |      150 |         6 |\n",
      "|           5 | Daniel       | Ricciardo   | McLaren         | Australia   |      120 |        32 |\n",
      "|           6 | George       | Russell     | Mercedes        | UK          |      250 |         9 |\n",
      "|           7 | Sergio       | Perez       | Red Bull Racing | Mexico      |      280 |        28 |\n",
      "|           8 | Fernando     | Alonso      | Renault         | Spain       |       80 |        99 |\n"
     ]
    }
   ],
   "source": [
    "print_mysql_table(client.connection, \"f1_drivers_table\")"
   ],
   "metadata": {
    "collapsed": false
   }
  },
  {
   "cell_type": "markdown",
   "source": [
    "We can see, the new entry has been added."
   ],
   "metadata": {
    "collapsed": false
   }
  },
  {
   "cell_type": "markdown",
   "source": [
    "# UPDATING DOCUMENTS IN THE COLLECTION\n",
    "We move onto updating the documents already in the MySQL database. We need to do this in MongoDB format."
   ],
   "metadata": {
    "collapsed": false
   }
  },
  {
   "cell_type": "code",
   "execution_count": 16,
   "outputs": [],
   "source": [
    "# Update a document\n",
    "collection.update_one({\"driver_id\": 8}, {\"$set\": {\"team\": \"Aston Martin\"}})"
   ],
   "metadata": {
    "collapsed": false
   }
  },
  {
   "cell_type": "markdown",
   "source": [
    "Again, we check."
   ],
   "metadata": {
    "collapsed": false
   }
  },
  {
   "cell_type": "code",
   "execution_count": 17,
   "outputs": [
    {
     "name": "stdout",
     "output_type": "stream",
     "text": [
      "|   driver_id | first_name   | last_name   | team            | country     |   points |   podiums |\n",
      "|------------:|:-------------|:------------|:----------------|:------------|---------:|----------:|\n",
      "|           1 | Lewis        | Hamilton    | Mercedes        | UK          |      400 |       192 |\n",
      "|           2 | Max          | Verstappen  | Red Bull Racing | Netherlands |      350 |        80 |\n",
      "|           3 | Charles      | Leclerc     | Ferrari         | Monaco      |      200 |        24 |\n",
      "|           4 | Lando        | Norris      | McLaren         | UK          |      150 |         6 |\n",
      "|           5 | Daniel       | Ricciardo   | McLaren         | Australia   |      120 |        32 |\n",
      "|           6 | George       | Russell     | Mercedes        | UK          |      250 |         9 |\n",
      "|           7 | Sergio       | Perez       | Red Bull Racing | Mexico      |      280 |        28 |\n",
      "|           8 | Fernando     | Alonso      | Aston Martin    | Spain       |       80 |        99 |\n"
     ]
    }
   ],
   "source": [
    "print_mysql_table(client.connection, \"f1_drivers_table\")"
   ],
   "metadata": {
    "collapsed": false
   }
  },
  {
   "cell_type": "markdown",
   "source": [
    "Clearly, it worked."
   ],
   "metadata": {
    "collapsed": false
   }
  },
  {
   "cell_type": "markdown",
   "source": [
    "# FIND INFORMATION FROM THE DOCUMENTS\n",
    "We now use find statements"
   ],
   "metadata": {
    "collapsed": false
   }
  },
  {
   "cell_type": "code",
   "execution_count": 18,
   "outputs": [
    {
     "name": "stdout",
     "output_type": "stream",
     "text": [
      "[{'driver_id': 2, 'first_name': 'Max', 'last_name': 'Verstappen', 'team': 'Red Bull Racing', 'country': 'Netherlands', 'points': 350, 'podiums': 80}, {'driver_id': 7, 'first_name': 'Sergio', 'last_name': 'Perez', 'team': 'Red Bull Racing', 'country': 'Mexico', 'points': 280, 'podiums': 28}]\n"
     ]
    }
   ],
   "source": [
    "# Find Red Bull drivers\n",
    "documents = collection.find({\"team\": \"Red Bull Racing\"})\n",
    "print(documents)"
   ],
   "metadata": {
    "collapsed": false
   }
  },
  {
   "cell_type": "code",
   "execution_count": 19,
   "outputs": [
    {
     "name": "stdout",
     "output_type": "stream",
     "text": [
      "[{'driver_id': 1}, {'driver_id': 2}, {'driver_id': 3}, {'driver_id': 5}, {'driver_id': 7}, {'driver_id': 8}]\n"
     ]
    }
   ],
   "source": [
    "documents2 = collection.find({\"podiums\": {\"$gt\": 10}}, {\"driver_id\":1})\n",
    "print(documents2)"
   ],
   "metadata": {
    "collapsed": false
   }
  },
  {
   "cell_type": "code",
   "execution_count": 20,
   "outputs": [
    {
     "name": "stdout",
     "output_type": "stream",
     "text": [
      "[{'first_name': 'Charles'}, {'first_name': 'Lando'}, {'first_name': 'George'}, {'first_name': 'Sergio'}]\n",
      "[{'first_name': 'Lewis'}, {'first_name': 'Max'}, {'first_name': 'Charles'}, {'first_name': 'Lando'}, {'first_name': 'Daniel'}, {'first_name': 'George'}, {'first_name': 'Sergio'}]\n"
     ]
    }
   ],
   "source": [
    "documents3 = collection.find({\"$and\": [\n",
    "    {\"podiums\": {\"$lte\": 50}},\n",
    "    {\"points\": {\"$gt\": 140}}\n",
    "]}, {\"first_name\": 1})\n",
    "print(documents3)\n",
    "\n",
    "documents4 = collection.find({\"$or\": [\n",
    "    {\"podiums\": {\"$lte\": 50}},\n",
    "    {\"points\": {\"$gt\": 140}}\n",
    "]}, {\"first_name\": 1})\n",
    "print(documents4)"
   ],
   "metadata": {
    "collapsed": false
   }
  },
  {
   "cell_type": "markdown",
   "source": [
    "# AGGREGATE DATA IN THE DOCUMENTS"
   ],
   "metadata": {
    "collapsed": false
   }
  },
  {
   "cell_type": "markdown",
   "source": [
    "1. Count the number of drivers per team:"
   ],
   "metadata": {
    "collapsed": false
   }
  },
  {
   "cell_type": "code",
   "execution_count": 21,
   "outputs": [
    {
     "name": "stdout",
     "output_type": "stream",
     "text": [
      "[{'team': 'Mercedes', 'count': 2}, {'team': 'Red Bull Racing', 'count': 2}, {'team': 'Ferrari', 'count': 1}, {'team': 'McLaren', 'count': 2}, {'team': 'Aston Martin', 'count': 1}]\n"
     ]
    }
   ],
   "source": [
    "result = collection.aggregate([\n",
    "  {\n",
    "    \"$group\": {\n",
    "      \"_id\": \"team\",\n",
    "      \"count\": {\"SUM\": 1}\n",
    "    }\n",
    "  }\n",
    "])\n",
    "\n",
    "print(result)"
   ],
   "metadata": {
    "collapsed": false
   }
  },
  {
   "cell_type": "markdown",
   "source": [
    "2. Calculate the average points and podiums per team:"
   ],
   "metadata": {
    "collapsed": false
   }
  },
  {
   "cell_type": "code",
   "execution_count": 22,
   "outputs": [
    {
     "name": "stdout",
     "output_type": "stream",
     "text": [
      "[{'team': 'Mercedes', 'averagePoints': 325, 'averagePodiums': 100}, {'team': 'Red Bull Racing', 'averagePoints': 315, 'averagePodiums': 54}, {'team': 'Ferrari', 'averagePoints': 200, 'averagePodiums': 24}, {'team': 'McLaren', 'averagePoints': 135, 'averagePodiums': 19}, {'team': 'Aston Martin', 'averagePoints': 80, 'averagePodiums': 99}]\n"
     ]
    }
   ],
   "source": [
    "result = collection.aggregate([\n",
    "  {\n",
    "    \"$group\": {\n",
    "      \"_id\": \"team\",\n",
    "      \"averagePoints\": {\"AVG\": \"$points\"},\n",
    "      \"averagePodiums\": {\"AVG\": \"$podiums\"}\n",
    "    }\n",
    "  }\n",
    "])\n",
    "print(result)"
   ],
   "metadata": {
    "collapsed": false
   }
  },
  {
   "cell_type": "markdown",
   "source": [
    "3. Show the drivers with more than 300 points, sorted by points in descending order:"
   ],
   "metadata": {
    "collapsed": false
   }
  },
  {
   "cell_type": "code",
   "execution_count": 23,
   "outputs": [
    {
     "name": "stdout",
     "output_type": "stream",
     "text": [
      "[{'driver_id': 1, 'first_name': 'Lewis', 'last_name': 'Hamilton', 'team': 'Mercedes', 'country': 'UK', 'points': 400, 'podiums': 192}, {'driver_id': 2, 'first_name': 'Max', 'last_name': 'Verstappen', 'team': 'Red Bull Racing', 'country': 'Netherlands', 'points': 350, 'podiums': 80}]\n"
     ]
    }
   ],
   "source": [
    "result = collection.aggregate([\n",
    "  {\n",
    "    \"$match\": {\n",
    "      \"points\": {\"$gt\": 300}\n",
    "    }\n",
    "  },\n",
    "  {\n",
    "    \"$sort\": {\n",
    "      \"points\": -1\n",
    "    }\n",
    "  }\n",
    "])\n",
    "print(result)"
   ],
   "metadata": {
    "collapsed": false
   }
  },
  {
   "cell_type": "markdown",
   "source": [
    "4. Calculate the total points and podiums per country:"
   ],
   "metadata": {
    "collapsed": false
   }
  },
  {
   "cell_type": "code",
   "execution_count": 24,
   "outputs": [
    {
     "name": "stdout",
     "output_type": "stream",
     "text": [
      "[{'country': 'UK', 'totalPoints': 800, 'totalPodiums': 207}, {'country': 'Netherlands', 'totalPoints': 350, 'totalPodiums': 80}, {'country': 'Monaco', 'totalPoints': 200, 'totalPodiums': 24}, {'country': 'Australia', 'totalPoints': 120, 'totalPodiums': 32}, {'country': 'Mexico', 'totalPoints': 280, 'totalPodiums': 28}, {'country': 'Spain', 'totalPoints': 80, 'totalPodiums': 99}]\n"
     ]
    }
   ],
   "source": [
    "result = collection.aggregate([\n",
    "  {\n",
    "    \"$group\": {\n",
    "      \"_id\": \"country\",\n",
    "      \"totalPoints\": {\"SUM\": \"$points\"},\n",
    "      \"totalPodiums\": {\"SUM\": \"$podiums\"}\n",
    "    }\n",
    "  }\n",
    "])\n",
    "print(result)"
   ],
   "metadata": {
    "collapsed": false
   }
  },
  {
   "cell_type": "markdown",
   "source": [
    "# FURTHER WORK\n",
    "- Add greater than/less than functionality to find\n",
    "- Check for more functionality in aggregation function\n",
    "- Check for errors"
   ],
   "metadata": {
    "collapsed": false
   }
  },
  {
   "cell_type": "markdown",
   "source": [
    "# Check in Terminal\n",
    "\n",
    "1. Log in using \"mysql -u jai -p\"\n",
    "2. Password dsci351\n",
    "3. USE f1\n",
    "4. SELECT * FROM f1_drivers_table;"
   ],
   "metadata": {
    "collapsed": false
   }
  },
  {
   "cell_type": "code",
   "execution_count": 24,
   "outputs": [],
   "source": [],
   "metadata": {
    "collapsed": false
   }
  }
 ],
 "metadata": {
  "kernelspec": {
   "display_name": "Python 3",
   "language": "python",
   "name": "python3"
  },
  "language_info": {
   "codemirror_mode": {
    "name": "ipython",
    "version": 2
   },
   "file_extension": ".py",
   "mimetype": "text/x-python",
   "name": "python",
   "nbconvert_exporter": "python",
   "pygments_lexer": "ipython2",
   "version": "2.7.6"
  }
 },
 "nbformat": 4,
 "nbformat_minor": 0
}
